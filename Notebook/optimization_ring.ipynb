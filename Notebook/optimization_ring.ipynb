{
 "cells": [
  {
   "cell_type": "markdown",
   "metadata": {},
   "source": [
    "# Optimization of a circulator layout\n",
    "\n",
    "Author: Alexis Morvan\n",
    "Date: 2021-06-02"
   ]
  },
  {
   "cell_type": "code",
   "execution_count": 1,
   "metadata": {},
   "outputs": [],
   "source": [
    "import numpy as np\n",
    "import matplotlib.pyplot as plt\n",
    "import networkx as nx\n",
    "\n",
    "import sys\n",
    "sys.path.append(\"../\")\n",
    "\n",
    "from freq_allocation.yield_mc_simulation import *\n",
    "from freq_allocation.frequency_graph import FrequencyGraph\n",
    "from freq_allocation.optimization import layout_optimizer\n",
    "\n",
    "# silencing pyomo wanring\n",
    "import logging\n",
    "\n",
    "logging.getLogger('pyomo.core').setLevel(logging.ERROR)\n",
    "\n",
    "# import pandas as pd"
   ]
  },
  {
   "cell_type": "markdown",
   "metadata": {},
   "source": [
    "## Definition of the layout\n",
    "We are defining a circular layout of N-transmons. Here we consider a simple circular layout where the edge goes likes:\n",
    "\n",
    "0 --> 1 --> 2 --> ... --> N//2 <-- ... <-- N-1 <-- N <-- 0"
   ]
  },
  {
   "cell_type": "markdown",
   "metadata": {},
   "source": [
    "### Ring parameters"
   ]
  },
  {
   "cell_type": "code",
   "execution_count": 2,
   "metadata": {},
   "outputs": [],
   "source": [
    "N = 8  # number of transmons\n",
    "edges = [(0, 1), (1, 2), (2, 3), (3, 4), (5, 4), (6, 5), (7, 6), (0, 7)]  # edges\n",
    "architecture = \"CR\"  # choosing the architecture: CZ or CR\n",
    "cz = True if architecture=='CZ' else False\n",
    "qutrit = False # qutrit or qubits\n",
    "\n",
    "# for later:\n",
    "# thresholds\n",
    "# weights\n",
    "all_differents = False\n",
    "# solver name"
   ]
  },
  {
   "cell_type": "markdown",
   "metadata": {},
   "source": [
    "### Constructing a FrequencyGraph object"
   ]
  },
  {
   "cell_type": "code",
   "execution_count": 3,
   "metadata": {},
   "outputs": [
    {
     "data": {
      "image/png": "[encoded data removed]",
      "text/plain": [
       "<Figure size 432x288 with 1 Axes>"
      ]
     },
     "metadata": {},
     "output_type": "display_data"
    }
   ],
   "source": [
    "G = FrequencyGraph(edges=edges, cz=cz)\n",
    "G.plot()"
   ]
  },
  {
   "cell_type": "code",
   "execution_count": 4,
   "metadata": {},
   "outputs": [
    {
     "data": {
      "text/plain": [
       "False"
      ]
     },
     "execution_count": 4,
     "metadata": {},
     "output_type": "execute_result"
    }
   ],
   "source": [
    "G.cz"
   ]
  },
  {
   "cell_type": "code",
   "execution_count": 5,
   "metadata": {},
   "outputs": [],
   "source": [
    "#thresholds\n",
    "d = np.array([0.017, 0.03 , 0.03 , 0.017, 0.03 , 0.002, 0.017, 0.025, 0.017])\n",
    "keys = ['A1', 'A2i', 'A2j', \"E1\", \"E2\", \"E4\", \"F1\", \"F2\", \"M1\"]\n",
    "d_dict = { k: dd for (k, dd) in zip(keys, d)}\n",
    "cr_keys = ['A1', 'A2i', 'A2j', \"E1\", \"E2\", \"E4\",\"C1\", \"C1b\", \"F1\", \"F2\", \"M1\"]\n",
    "cstr_key = cr_keys\n",
    "# d_dict[\"F2\"] = 0\n",
    "\n",
    "\n",
    "# d_dict['C1b'] = 0.0\n",
    "#CZ constraints\n",
    "# keys = ['A1', 'A2i', 'A2j', \"E1\", \"E2\", \"E4\", \"E1t\", \"E2t\", \"E4t\", \"F1\", \"F2\", \"M1\"]\n",
    "# d = np.array([0.017, 0.03 , 0.03 , 0.017, 0.03 , 0.002, 0.017, 0.03 , 0.002, 0.017, 0.025, 0.017])\n",
    "# d_dict = { k: dd for (k, dd) in zip(keys, d)}\n",
    "# cstr_key = keys\n",
    "\n",
    "# free of drive\n",
    "# keys = ['A1', 'A2i', 'A2j', \"E1\", \"E2\", \"E4\", \"E1t\", \"E2t\", \"E4t\", \"F1\", \"F2\", \"M1\"]\n",
    "# d = np.array([0.017, 0.03 , 0.03 , 0.00, 0.00 , 0.000, 0.00, 0.00 , 0.000, 0.00, 0.00, 0.00])\n",
    "# d_dict = { k: dd for (k, dd) in zip(keys, d)}\n",
    "# cstr_key = keys"
   ]
  },
  {
   "cell_type": "markdown",
   "metadata": {},
   "source": [
    "## Optimization of the frequency"
   ]
  },
  {
   "cell_type": "markdown",
   "metadata": {},
   "source": [
    "### optimization parameters"
   ]
  },
  {
   "cell_type": "code",
   "execution_count": 6,
   "metadata": {},
   "outputs": [],
   "source": [
    "optimizer = layout_optimizer(graph=G,\n",
    "                             architecture=architecture,\n",
    "                             qutrit=qutrit,\n",
    "                             all_differents=all_differents)"
   ]
  },
  {
   "cell_type": "markdown",
   "metadata": {},
   "source": [
    "### Optimization"
   ]
  },
  {
   "cell_type": "code",
   "execution_count": 7,
   "metadata": {},
   "outputs": [],
   "source": [
    "# perform the optimization\n",
    "optimizer.declare_solver()\n",
    "result = optimizer.first_pass()\n",
    "optimizer.second_pass()\n",
    "result = optimizer.third_pass()"
   ]
  },
  {
   "cell_type": "markdown",
   "metadata": {},
   "source": [
    "### Adding the results to the frequencyGraph"
   ]
  },
  {
   "cell_type": "code",
   "execution_count": 8,
   "metadata": {},
   "outputs": [],
   "source": [
    "# manually adding the frequencyes and the drives\n",
    "freqs = np.array([ 5.63, 5.55, 5.40, 5.25, 5.05, 5.15, 5.3, 5.43])\n",
    "freqs = np.array([ 5.794, 5.659, 5.478, 5.297, 5.115, 5.240, 5.421, 5.603])\n",
    "freqs = {k: freqs[k] for k in range(8)}\n",
    "anharms = {k: -0.310 for k in range(8)}\n",
    "drives =  {e: freqs[e[1]] for e in G.edges}"
   ]
  },
  {
   "cell_type": "code",
   "execution_count": 9,
   "metadata": {},
   "outputs": [
    {
     "data": {
      "text/plain": [
       "{(0, 1): 5.659,\n",
       " (0, 7): 5.603,\n",
       " (1, 2): 5.478,\n",
       " (2, 3): 5.297,\n",
       " (3, 4): 5.115,\n",
       " (5, 4): 5.115,\n",
       " (6, 5): 5.24,\n",
       " (7, 6): 5.421}"
      ]
     },
     "execution_count": 9,
     "metadata": {},
     "output_type": "execute_result"
    }
   ],
   "source": [
    "drives"
   ]
  },
  {
   "cell_type": "code",
   "execution_count": 10,
   "metadata": {},
   "outputs": [
    {
     "name": "stdout",
     "output_type": "stream",
     "text": [
      "The drive frequency are CR compatible\n"
     ]
    }
   ],
   "source": [
    "freqs, anharms, drives = optimizer.get_solution()\n",
    "G.set_values(freqs, anharms, drives)"
   ]
  },
  {
   "cell_type": "code",
   "execution_count": 11,
   "metadata": {},
   "outputs": [
    {
     "ename": "TypeError",
     "evalue": "cannot unpack non-iterable bool object",
     "output_type": "error",
     "traceback": [
      "\u001b[0;31m---------------------------------------------------------------------------\u001b[0m",
      "\u001b[0;31mTypeError\u001b[0m                                 Traceback (most recent call last)",
      "\u001b[0;32m<ipython-input-11-431dbd9e29e0>\u001b[0m in \u001b[0;36m<module>\u001b[0;34m\u001b[0m\n\u001b[0;32m----> 1\u001b[0;31m \u001b[0mc\u001b[0m\u001b[0;34m,\u001b[0m \u001b[0midx_list\u001b[0m\u001b[0;34m,\u001b[0m \u001b[0mconstraints\u001b[0m \u001b[0;34m=\u001b[0m \u001b[0mG\u001b[0m\u001b[0;34m.\u001b[0m\u001b[0mcheck_solution\u001b[0m\u001b[0;34m(\u001b[0m\u001b[0md_dict\u001b[0m\u001b[0;34m,\u001b[0m \u001b[0mcstr\u001b[0m\u001b[0;34m=\u001b[0m\u001b[0mcstr_key\u001b[0m\u001b[0;34m)\u001b[0m\u001b[0;34m\u001b[0m\u001b[0;34m\u001b[0m\u001b[0m\n\u001b[0m",
      "\u001b[0;31mTypeError\u001b[0m: cannot unpack non-iterable bool object"
     ]
    }
   ],
   "source": [
    "printG.check_solution(d_dict, cstr=cstr_key)"
   ]
  },
  {
   "cell_type": "code",
   "execution_count": 33,
   "metadata": {},
   "outputs": [],
   "source": [
    "idx_list_flat = [k for idx in idx_list for k in idx]"
   ]
  },
  {
   "cell_type": "code",
   "execution_count": 37,
   "metadata": {},
   "outputs": [
    {
     "data": {
      "text/plain": [
       "True"
      ]
     },
     "execution_count": 37,
     "metadata": {},
     "output_type": "execute_result"
    }
   ],
   "source": [
    "np.all(c)"
   ]
  },
  {
   "cell_type": "code",
   "execution_count": 17,
   "metadata": {},
   "outputs": [
    {
     "data": {
      "text/plain": [
       "array([ True,  True,  True,  True,  True,  True,  True,  True,  True,\n",
       "        True,  True,  True,  True,  True,  True,  True,  True,  True,\n",
       "        True,  True,  True,  True,  True,  True,  True,  True,  True,\n",
       "        True,  True,  True,  True,  True,  True,  True,  True,  True,\n",
       "        True,  True,  True,  True,  True,  True,  True,  True,  True,\n",
       "        True,  True,  True,  True,  True,  True,  True,  True,  True,\n",
       "        True,  True,  True,  True,  True,  True,  True,  True,  True,\n",
       "        True,  True,  True,  True,  True,  True,  True,  True,  True,\n",
       "        True,  True,  True,  True,  True,  True,  True,  True,  True,\n",
       "        True,  True,  True,  True,  True,  True,  True])"
      ]
     },
     "execution_count": 17,
     "metadata": {},
     "output_type": "execute_result"
    }
   ],
   "source": [
    "np.squeeze(c)"
   ]
  },
  {
   "cell_type": "code",
   "execution_count": 18,
   "metadata": {},
   "outputs": [
    {
     "data": {
      "text/plain": [
       "[[(0, 1), (0, 7), (1, 2), (2, 3), (3, 4), (5, 4), (6, 5), (7, 6)],\n",
       " [(0, 1), (0, 7), (1, 2), (2, 3), (3, 4), (5, 4), (6, 5), (7, 6)],\n",
       " [(0, 1), (0, 7), (1, 2), (2, 3), (3, 4), (5, 4), (6, 5), (7, 6)],\n",
       " [(0, 1), (0, 7), (1, 2), (2, 3), (3, 4), (5, 4), (6, 5), (7, 6)],\n",
       " [(0, 1), (0, 7), (1, 2), (2, 3), (3, 4), (5, 4), (6, 5), (7, 6)],\n",
       " [(0, 1), (0, 7), (1, 2), (2, 3), (3, 4), (5, 4), (6, 5), (7, 6)],\n",
       " [(0, 1), (0, 7), (1, 2), (2, 3), (3, 4), (5, 4), (6, 5), (7, 6)],\n",
       " [(0, 1), (0, 7), (1, 2), (2, 3), (3, 4), (5, 4), (6, 5), (7, 6)],\n",
       " [(0, 1, 7),\n",
       "  (0, 7, 1),\n",
       "  (1, 2, 0),\n",
       "  (2, 3, 1),\n",
       "  (3, 4, 2),\n",
       "  (5, 4, 6),\n",
       "  (6, 5, 7),\n",
       "  (7, 6, 0)],\n",
       " [(0, 1, 7),\n",
       "  (0, 7, 1),\n",
       "  (1, 2, 0),\n",
       "  (2, 3, 1),\n",
       "  (3, 4, 2),\n",
       "  (5, 4, 6),\n",
       "  (6, 5, 7),\n",
       "  (7, 6, 0)],\n",
       " [(0, 1, 7),\n",
       "  (0, 7, 1),\n",
       "  (1, 2, 0),\n",
       "  (2, 3, 1),\n",
       "  (3, 4, 2),\n",
       "  (5, 4, 6),\n",
       "  (6, 5, 7),\n",
       "  (7, 6, 0)]]"
      ]
     },
     "execution_count": 18,
     "metadata": {},
     "output_type": "execute_result"
    }
   ],
   "source": [
    "idx_list"
   ]
  },
  {
   "cell_type": "code",
   "execution_count": 11,
   "metadata": {},
   "outputs": [
    {
     "data": {
      "text/plain": [
       "[]"
      ]
     },
     "execution_count": 11,
     "metadata": {},
     "output_type": "execute_result"
    },
    {
     "data": {
      "image/png": "[encoded data removed]",
      "text/plain": [
       "<Figure size 432x288 with 1 Axes>"
      ]
     },
     "metadata": {
      "needs_background": "light"
     },
     "output_type": "display_data"
    }
   ],
   "source": [
    "fig, ax = plt.subplots()\n",
    "ax.plot(G.freqs, 'o--')\n",
    "ax.plot()"
   ]
  },
  {
   "cell_type": "code",
   "execution_count": null,
   "metadata": {},
   "outputs": [],
   "source": []
  },
  {
   "cell_type": "markdown",
   "metadata": {},
   "source": [
    "## Yield of the design"
   ]
  },
  {
   "cell_type": "code",
   "execution_count": 10,
   "metadata": {
    "tags": []
   },
   "outputs": [
    {
     "name": "stdout",
     "output_type": "stream",
     "text": [
      "Qubit collisions:\n",
      "yield   = 0.065\n",
      "average = 3.77\n"
     ]
    },
    {
     "data": {
      "image/png": "[encoded data removed]",
      "text/plain": [
       "<Figure size 720x360 with 2 Axes>"
      ]
     },
     "metadata": {
      "needs_background": "light"
     },
     "output_type": "display_data"
    }
   ],
   "source": [
    "# parametrization\n",
    "Nsamples = 200\n",
    "sigma = 0.05\n",
    "\n",
    "# Calculating yield\n",
    "collisions, c, idx_list, constraints = G.get_collision(d_dict, sigma=sigma, qutrit=False, cstr=cstr_key, Nsamples=Nsamples)\n",
    "\n",
    "idx_len = [len(idx) for idx in idx_list]\n",
    "cstr_list = []\n",
    "for ct, ilen in zip(constraints, idx_len):\n",
    "    cstr_list += [ct]*ilen \n",
    "\n",
    "print(\"Qubit collisions:\")\n",
    "print(f\"yield   = {np.sum(collisions==0)/len(collisions)}\")\n",
    "print(f\"average = {np.sum(collisions)/len(collisions)}\")\n",
    "\n",
    "\n",
    "###### plotting\n",
    "fig, axs = plt.subplots(1, 2, figsize=(10, 5))\n",
    "\n",
    "## plot of the yield\n",
    "ax = axs[0]\n",
    "ax.hist(collisions, bins=[0, 1, 2, 3, 4, 5, 6, 7, 8, 9, 10], density=True)\n",
    "\n",
    "#legend\n",
    "ax.set_xlabel(\"Number of collision\")\n",
    "ax.set_ylabel(\"Frequency\")\n",
    "ax.set_title(\"Number of collision per sample\")\n",
    "\n",
    "## histogram of the type of errors\n",
    "ax = axs[1]\n",
    "c = np.array(c)\n",
    "cc = np.sum(~np.array(c), axis=1)\n",
    "v = [sum(idx_len[:k]) for k in range(len(idx_len)+1)]\n",
    "col = np.array([np.mean(cc[v[i]: v[i+1]]) for i in range(len(v)-1)])/Nsamples\n",
    "\n",
    "ax.bar(np.arange(len(col)), col)\n",
    "ax.set_xticks(np.arange(len(col)))\n",
    "ax.set_xticklabels(cstr_key)\n",
    "\n",
    "# legend and labels\n",
    "ax.set_xlabel('Collision type')\n",
    "ax.set_ylabel('Frequency')\n",
    "ax.set_title(\"Collision type\")\n",
    "fig.suptitle(f\"Collision for a 6q ring with $\\sigma=$ {sigma} GHz\")\n",
    "\n",
    "fig.tight_layout()"
   ]
  },
  {
   "cell_type": "markdown",
   "metadata": {},
   "source": [
    "### Collision type distribution"
   ]
  },
  {
   "cell_type": "markdown",
   "metadata": {},
   "source": [
    "### Collision spatial distribution"
   ]
  },
  {
   "cell_type": "code",
   "execution_count": 11,
   "metadata": {},
   "outputs": [],
   "source": [
    "x = [sum(idx_len[:k]) for k in range(len(idx_len)+1)]\n",
    "xm = [(x[i] + x[i+1])/2 for i in range(len(x)-1)]"
   ]
  },
  {
   "cell_type": "code",
   "execution_count": 12,
   "metadata": {},
   "outputs": [
    {
     "data": {
      "text/plain": [
       "Text(0.5, 0, 'Collision type')"
      ]
     },
     "execution_count": 12,
     "metadata": {},
     "output_type": "execute_result"
    },
    {
     "data": {
      "image/png": "[encoded data removed]",
      "text/plain": [
       "<Figure size 1152x432 with 1 Axes>"
      ]
     },
     "metadata": {
      "needs_background": "light"
     },
     "output_type": "display_data"
    }
   ],
   "source": [
    "fig, ax = plt.subplots(figsize=(16, 6))\n",
    "ax.plot(np.sum(~np.array(c), axis=1)/Nsamples, 'o')\n",
    "for xx in x:\n",
    "    ax.axvline(xx, color='k', linewidth=0.5, alpha = 0.5)\n",
    "ax.set_xticks(xm);\n",
    "ax.set_xticklabels(constraints)\n",
    "\n",
    "ax.set_ylabel('Frequency')\n",
    "ax.set_xlabel(\"Collision type\")"
   ]
  },
  {
   "cell_type": "markdown",
   "metadata": {},
   "source": [
    "### Collision vs std of the frequencies"
   ]
  },
  {
   "cell_type": "code",
   "execution_count": 13,
   "metadata": {},
   "outputs": [
    {
     "data": {
      "image/png": "[encoded data removed]",
      "text/plain": [
       "<Figure size 720x360 with 1 Axes>"
      ]
     },
     "metadata": {
      "needs_background": "light"
     },
     "output_type": "display_data"
    }
   ],
   "source": [
    "\n",
    "# initialization the plot\n",
    "fig, ax = plt.subplots( figsize=(10, 5))\n",
    "\n",
    "# N_samples\n",
    "Nsamples = 500\n",
    "\n",
    "# varying the dispersion of the frequency\n",
    "s_vec = np.linspace(0, 0.1, 21)\n",
    "\n",
    "# saving the results\n",
    "collisions = np.array([G.get_collision(d_dict, Nsamples=Nsamples, sigma=s, cstr=cstr_key)[0] for s in s_vec])\n",
    "\n",
    "n_collisions = [0]\n",
    "y = [(Nsamples-np.count_nonzero(collisions-n, axis=1))/Nsamples for n in n_collisions]\n",
    "\n",
    "ax.plot(s_vec*1e3, y[0], label=f'Configuration {0}')\n",
    "\n",
    "\n",
    "ax.axvline(15, ls='-.', color='Gray', label = r\"J.B. Hertzberg $\\it{et~al.}$\")\n",
    "ax.axvline(50, ls='--', color='Gray', label = r\"JM. Kreikebaum $\\it{et~al.}$\")\n",
    "\n",
    "# Legend and labels\n",
    "ax.set_ylabel(f'Yield')\n",
    "ax.set_xlabel('Frequency dispersion $\\sigma_f$ (MHz)')\n",
    "ax.set_yscale('log')\n",
    "ax.set_title('Yield for collision free sample')\n",
    "ax.legend(ncol=1, fontsize=10, loc=0)\n",
    "\n",
    "ax.set_xlim(0, 100)\n",
    "ax.grid()"
   ]
  },
  {
   "cell_type": "code",
   "execution_count": 69,
   "metadata": {},
   "outputs": [],
   "source": [
    "data = {\"sigma\": s_vec, \n",
    "        \"collisions\": collisions,\n",
    "        \"key\": cstr_key,\n",
    "        \"yield\": y,\n",
    "        \"samples\":Nsamples}\n",
    "np.save(f'ring_8t_{architecture}_yield.npy',data)"
   ]
  },
  {
   "cell_type": "code",
   "execution_count": 70,
   "metadata": {},
   "outputs": [],
   "source": [
    "data_CR = np.load('ring_8t_CR_yield.npy', allow_pickle=True)[()]\n",
    "data_CZ = np.load('ring_8t_CZ_yield.npy', allow_pickle=True)[()]"
   ]
  },
  {
   "cell_type": "code",
   "execution_count": 73,
   "metadata": {},
   "outputs": [
    {
     "data": {
      "image/png": "[encoded data removed]",
      "text/plain": [
       "<Figure size 720x360 with 1 Axes>"
      ]
     },
     "metadata": {
      "needs_background": "light"
     },
     "output_type": "display_data"
    }
   ],
   "source": [
    "fig, ax = plt.subplots( figsize=(10, 5))\n",
    "\n",
    "\n",
    "s_vec_cr = data_CR[\"sigma\"]\n",
    "y_cr = data_CR[\"yield\"]\n",
    "\n",
    "s_vec_cz = data_CZ[\"sigma\"]\n",
    "y_cz = data_CZ[\"yield\"]\n",
    "\n",
    "\n",
    "\n",
    "ax.plot(s_vec_cr*1e3, y_cr[0], label=f'Configuration {0}')\n",
    "ax.plot(s_vec_cz*1e3, y_cz[0], label=f'Configuration {0}')\n",
    "\n",
    "ax.axvline(15, ls='-.', color='Gray', label = r\"J.B. Hertzberg $\\it{et~al.}$\")\n",
    "ax.axvline(50, ls='--', color='Gray', label = r\"JM. Kreikebaum $\\it{et~al.}$\")\n",
    "\n",
    "# Legend and labels\n",
    "ax.set_ylabel(f'Yield')\n",
    "ax.set_xlabel('Frequency dispersion $\\sigma_f$ (MHz)')\n",
    "ax.set_yscale('log')\n",
    "ax.set_title('Yield for collision free sample')\n",
    "ax.legend(ncol=1, fontsize=10, loc=0)\n",
    "\n",
    "ax.set_xlim(0, 100)\n",
    "ax.grid()"
   ]
  },
  {
   "cell_type": "code",
   "execution_count": 53,
   "metadata": {},
   "outputs": [
    {
     "data": {
      "text/plain": [
       "array({'sigma': array([0.     , 0.00125, 0.0025 , 0.00375, 0.005  , 0.00625, 0.0075 ,\n",
       "       0.00875, 0.01   , 0.01125, 0.0125 , 0.01375, 0.015  , 0.01625,\n",
       "       0.0175 , 0.01875, 0.02   , 0.02125, 0.0225 , 0.02375, 0.025  ,\n",
       "       0.02625, 0.0275 , 0.02875, 0.03   , 0.03125, 0.0325 , 0.03375,\n",
       "       0.035  , 0.03625, 0.0375 , 0.03875, 0.04   , 0.04125, 0.0425 ,\n",
       "       0.04375, 0.045  , 0.04625, 0.0475 , 0.04875, 0.05   , 0.05125,\n",
       "       0.0525 , 0.05375, 0.055  , 0.05625, 0.0575 , 0.05875, 0.06   ,\n",
       "       0.06125, 0.0625 , 0.06375, 0.065  , 0.06625, 0.0675 , 0.06875,\n",
       "       0.07   , 0.07125, 0.0725 , 0.07375, 0.075  , 0.07625, 0.0775 ,\n",
       "       0.07875, 0.08   , 0.08125, 0.0825 , 0.08375, 0.085  , 0.08625,\n",
       "       0.0875 , 0.08875, 0.09   , 0.09125, 0.0925 , 0.09375, 0.095  ,\n",
       "       0.09625, 0.0975 , 0.09875, 0.1    ]), 'collisions': array([[0, 0, 0, ..., 0, 0, 0],\n",
       "       [0, 0, 0, ..., 0, 0, 0],\n",
       "       [0, 0, 0, ..., 0, 0, 0],\n",
       "       ...,\n",
       "       [4, 8, 5, ..., 3, 8, 3],\n",
       "       [5, 4, 4, ..., 2, 9, 7],\n",
       "       [4, 9, 5, ..., 6, 7, 4]]), 'key': ['A1', 'A2i', 'A2j', 'E1', 'E2', 'E4', 'C1', 'C1b', 'F1', 'F2', 'M1'], 'yield': [array([1.     , 1.     , 1.     , 1.     , 1.     , 1.     , 0.99996,\n",
       "       0.99918, 0.99546, 0.9839 , 0.96278, 0.92916, 0.8858 , 0.83984,\n",
       "       0.7789 , 0.7221 , 0.66352, 0.6073 , 0.5506 , 0.5071 , 0.45412,\n",
       "       0.4132 , 0.3727 , 0.34188, 0.30582, 0.27932, 0.25342, 0.23176,\n",
       "       0.2113 , 0.19492, 0.17686, 0.16066, 0.14866, 0.13552, 0.12628,\n",
       "       0.11694, 0.106  , 0.09934, 0.09118, 0.08618, 0.07738, 0.07358,\n",
       "       0.06618, 0.06388, 0.06056, 0.05546, 0.05264, 0.04892, 0.04606,\n",
       "       0.04132, 0.0398 , 0.0374 , 0.03706, 0.03388, 0.02956, 0.02954,\n",
       "       0.02898, 0.02542, 0.02442, 0.02356, 0.02214, 0.0206 , 0.02014,\n",
       "       0.01928, 0.01714, 0.01684, 0.01586, 0.01594, 0.01422, 0.01334,\n",
       "       0.01296, 0.01222, 0.01174, 0.01176, 0.01128, 0.01046, 0.00976,\n",
       "       0.00952, 0.008  , 0.00786, 0.00796])], 'samples': 50000},\n",
       "      dtype=object)"
      ]
     },
     "execution_count": 53,
     "metadata": {},
     "output_type": "execute_result"
    }
   ],
   "source": [
    "data_CR"
   ]
  },
  {
   "cell_type": "code",
   "execution_count": 76,
   "metadata": {},
   "outputs": [
    {
     "data": {
      "text/plain": [
       "\u001b[0;31mSignature:\u001b[0m \u001b[0mord\u001b[0m\u001b[0;34m(\u001b[0m\u001b[0mc\u001b[0m\u001b[0;34m,\u001b[0m \u001b[0;34m/\u001b[0m\u001b[0;34m)\u001b[0m\u001b[0;34m\u001b[0m\u001b[0;34m\u001b[0m\u001b[0m\n",
       "\u001b[0;31mDocstring:\u001b[0m Return the Unicode code point for a one-character string.\n",
       "\u001b[0;31mType:\u001b[0m      builtin_function_or_method\n"
      ]
     },
     "metadata": {},
     "output_type": "display_data"
    }
   ],
   "source": [
    "ord?"
   ]
  },
  {
   "cell_type": "raw",
   "metadata": {},
   "source": []
  }
 ],
 "metadata": {
  "kernelspec": {
   "display_name": "pyopt",
   "language": "python",
   "name": "pyopt"
  },
  "language_info": {
   "codemirror_mode": {
    "name": "ipython",
    "version": 3
   },
   "file_extension": ".py",
   "mimetype": "text/x-python",
   "name": "python",
   "nbconvert_exporter": "python",
   "pygments_lexer": "ipython3",
   "version": "3.9.4"
  }
 },
 "nbformat": 4,
 "nbformat_minor": 5
}
