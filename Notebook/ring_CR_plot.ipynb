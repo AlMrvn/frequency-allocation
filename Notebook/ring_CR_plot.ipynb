{
 "cells": [
  {
   "cell_type": "markdown",
   "metadata": {},
   "source": [
    "# Optimization of a circulator layout\n",
    "\n",
    "Author: Alexis Morvan\n",
    "Date: 2021-06-02"
   ]
  },
  {
   "cell_type": "code",
   "execution_count": 1,
   "metadata": {},
   "outputs": [],
   "source": [
    "import numpy as np\n",
    "import matplotlib.pyplot as plt\n",
    "import networkx as nx\n",
    "\n",
    "import sys\n",
    "sys.path.append(\"../\")\n",
    "\n",
    "from freq_allocation.yield_mc_simulation import *\n",
    "from freq_allocation.frequency_graph import FrequencyGraph\n",
    "from freq_allocation.optimization import layout_optimizer\n",
    "\n",
    "# silencing pyomo wanring\n",
    "import logging\n",
    "\n",
    "logging.getLogger('pyomo.core').setLevel(logging.ERROR)\n",
    "\n",
    "# import pandas as pd"
   ]
  },
  {
   "cell_type": "code",
   "execution_count": 2,
   "metadata": {},
   "outputs": [],
   "source": [
    "# plotting\n",
    "from matplotlib.patches import Rectangle\n",
    "# pot distribution:\n",
    "import scipy.stats as stats\n",
    "# params = {\n",
    "#     'axes.labelsize': 18,\n",
    "#     'legend.fontsize': 18,\n",
    "#     'xtick.labelsize': 16,\n",
    "#     'ytick.labelsize': 16,\n",
    "#     'text.usetex': True,\n",
    "#     'figure.figsize': [7, 3.375],\n",
    "#     'xtick.direction': 'in',\n",
    "#     'ytick.direction': 'in',\n",
    "#     'ytick.right': True,\n",
    "#     'xtick.top': True\n",
    "#    }\n",
    "# plt.rcParams.update(params)"
   ]
  },
  {
   "cell_type": "markdown",
   "metadata": {},
   "source": [
    "## Definition of the layout\n",
    "We are defining a circular layout of N-transmons. Here we consider a simple circular layout where the edge goes likes:\n",
    "\n",
    "0 --> 1 --> 2 --> ... --> N//2 <-- ... <-- N-1 <-- N <-- 0"
   ]
  },
  {
   "cell_type": "markdown",
   "metadata": {},
   "source": [
    "### Ring parameters"
   ]
  },
  {
   "cell_type": "code",
   "execution_count": 3,
   "metadata": {},
   "outputs": [],
   "source": [
    "N = 8  # number of transmons\n",
    "edges = [(0, 1), (1, 2), (2, 3), (3, 4), (5, 4), (6, 5), (7, 6), (0, 7)]  # edges\n",
    "architecture = \"CR\"  # choosing the architecture: CZ or CR\n",
    "cz = True if architecture=='CZ' else False\n",
    "qutrit = False # qutrit or qubits\n",
    "\n",
    "# for later:\n",
    "# thresholds\n",
    "# weights\n",
    "all_differents = False\n",
    "# solver name"
   ]
  },
  {
   "cell_type": "code",
   "execution_count": null,
   "metadata": {},
   "outputs": [],
   "source": []
  },
  {
   "cell_type": "code",
   "execution_count": 4,
   "metadata": {},
   "outputs": [],
   "source": [
    "# from freq_allocation.parsing import *\n",
    "# # parse the csd\n",
    "# G = parse_csv(\"../solutions/juin/\")\n",
    "# architecture = \"CR\" "
   ]
  },
  {
   "cell_type": "code",
   "execution_count": 5,
   "metadata": {},
   "outputs": [],
   "source": [
    "# G.plot()"
   ]
  },
  {
   "cell_type": "markdown",
   "metadata": {},
   "source": [
    "### Constructing a FrequencyGraph object"
   ]
  },
  {
   "cell_type": "code",
   "execution_count": 6,
   "metadata": {},
   "outputs": [
    {
     "data": {
      "image/png": "[encoded data removed]",
      "text/plain": [
       "<Figure size 432x288 with 1 Axes>"
      ]
     },
     "metadata": {},
     "output_type": "display_data"
    }
   ],
   "source": [
    "G = FrequencyGraph(edges=edges, cz=cz)\n",
    "pos = {i: (np.cos(2*np.pi/N*i), (np.sin(2*np.pi/N*i))) for i in range(N)}\n",
    "G.plot(pos = pos)"
   ]
  },
  {
   "cell_type": "code",
   "execution_count": 7,
   "metadata": {},
   "outputs": [
    {
     "data": {
      "text/plain": [
       "False"
      ]
     },
     "execution_count": 7,
     "metadata": {},
     "output_type": "execute_result"
    }
   ],
   "source": [
    "G.cz"
   ]
  },
  {
   "cell_type": "code",
   "execution_count": 22,
   "metadata": {},
   "outputs": [],
   "source": [
    "#thresholds\n",
    "if architecture == 'CR':\n",
    "    d = np.array([0.017, 0.03 , 0.03 , 0.017, 0.03 , 0.002, 0.017, 0.025, 0.017])\n",
    "    keys = ['A1', 'A2i', 'A2j', \"E1\", \"E2\", \"E4\", \"F1\", \"F2\", \"M1\"]\n",
    "    d_dict = { k: dd for (k, dd) in zip(keys, d)}\n",
    "    cr_keys = ['A1', 'A2i', 'A2j', \"E1\", \"E2\", \"E4\",\"C1\", \"C1b\", \"F1\", \"F2\", \"M1\"]\n",
    "    cstr_key = cr_keys\n",
    "\n",
    "#CZ constraints\n",
    "elif architecture == 'CZ':\n",
    "    keys = ['A1', 'A2i', 'A2j', \"E1\", \"E2\", \"E4\", \"E1t\", \"E2t\", \"E4t\", \"F1\", \"F2\", \"M1\"]\n",
    "    d = np.array([0.017, 0.03 , 0.03 , 0.017, 0.03 , 0.002, 0.017, 0.03 , 0.002, 0.017, 0.025, 0.017])\n",
    "    d_dict = { k: dd for (k, dd) in zip(keys, d)}\n",
    "    cstr_key = keys\n",
    "\n",
    "# free of drive\n",
    "# keys = ['A1', 'A2i', 'A2j', \"E1\", \"E2\", \"E4\", \"E1t\", \"E2t\", \"E4t\", \"F1\", \"F2\", \"M1\"]\n",
    "# d = np.array([0.017, 0.03 , 0.03 , 0.00, 0.00 , 0.000, 0.00, 0.00 , 0.000, 0.00, 0.00, 0.00])\n",
    "# d_dict = { k: dd for (k, dd) in zip(keys, d)}\n",
    "# cstr_key = keys"
   ]
  },
  {
   "cell_type": "markdown",
   "metadata": {},
   "source": [
    "## Optimization of the frequency"
   ]
  },
  {
   "cell_type": "markdown",
   "metadata": {},
   "source": [
    "### optimization parameters"
   ]
  },
  {
   "cell_type": "code",
   "execution_count": 9,
   "metadata": {},
   "outputs": [],
   "source": [
    "optimizer = layout_optimizer(graph=G,\n",
    "                             architecture=architecture,\n",
    "                             qutrit=qutrit,\n",
    "                             all_differents=all_differents)"
   ]
  },
  {
   "cell_type": "markdown",
   "metadata": {},
   "source": [
    "### Optimization"
   ]
  },
  {
   "cell_type": "code",
   "execution_count": 10,
   "metadata": {},
   "outputs": [],
   "source": [
    "# perform the optimization\n",
    "optimizer.declare_solver()\n",
    "result = optimizer.first_pass()\n",
    "optimizer.second_pass()\n",
    "result = optimizer.third_pass()"
   ]
  },
  {
   "cell_type": "code",
   "execution_count": 11,
   "metadata": {},
   "outputs": [
    {
     "data": {
      "text/plain": [
       "{'A1': 1,\n",
       " 'A2i': 0,\n",
       " 'A2j': 0,\n",
       " 'E1': 0.0,\n",
       " 'E2': 0.0,\n",
       " 'E4': 0.0,\n",
       " 'F1': 0.0,\n",
       " 'F2': 0.0,\n",
       " 'M1': 0.0,\n",
       " 'C1': 0.0}"
      ]
     },
     "execution_count": 11,
     "metadata": {},
     "output_type": "execute_result"
    }
   ],
   "source": [
    "optimizer.wC"
   ]
  },
  {
   "cell_type": "markdown",
   "metadata": {},
   "source": [
    "### Adding the results to the frequencyGraph"
   ]
  },
  {
   "cell_type": "code",
   "execution_count": 12,
   "metadata": {},
   "outputs": [],
   "source": [
    "# # manually adding the frequencyes and the drives\n",
    "# freqs = np.array([ 5.63, 5.55, 5.40, 5.25, 5.05, 5.15, 5.3, 5.43])\n",
    "# freqs = np.array([ 5.794, 5.659, 5.478, 5.297, 5.115, 5.240, 5.421, 5.603])\n",
    "# freqs = {k: freqs[k] for k in range(8)}\n",
    "# anharms = {k: -0.310 for k in range(8)}\n",
    "# drives =  {e: freqs[e[1]] for e in G.edges}"
   ]
  },
  {
   "cell_type": "code",
   "execution_count": 13,
   "metadata": {},
   "outputs": [],
   "source": [
    "# drives"
   ]
  },
  {
   "cell_type": "code",
   "execution_count": 14,
   "metadata": {},
   "outputs": [
    {
     "data": {
      "text/plain": [
       "{'Problem': [{'Name': 'x321', 'Lower bound': 0.7460000000002385, 'Upper bound': 0.7460000000002385, 'Number of objectives': 1, 'Number of constraints': 249, 'Number of variables': 177, 'Number of binary variables': 72, 'Number of integer variables': 72, 'Number of continuous variables': 105, 'Number of nonzeros': 841, 'Sense': 'maximize'}], 'Solver': [{'Status': 'ok', 'Return code': '0', 'Message': 'Model was solved to optimality (subject to tolerances), and an optimal solution is available.', 'Termination condition': 'optimal', 'Termination message': 'Model was solved to optimality (subject to tolerances), and an optimal solution is available.', 'Wall time': '0.004747152328491211', 'Error rc': 0, 'Time': 0.07526779174804688}], 'Solution': [OrderedDict([('number of solutions', 0), ('number of solutions displayed', 0)])]}"
      ]
     },
     "execution_count": 14,
     "metadata": {},
     "output_type": "execute_result"
    }
   ],
   "source": [
    "result"
   ]
  },
  {
   "cell_type": "code",
   "execution_count": 15,
   "metadata": {},
   "outputs": [
    {
     "name": "stdout",
     "output_type": "stream",
     "text": [
      "The drive frequency are CR compatible\n"
     ]
    }
   ],
   "source": [
    "freqs, anharms, drives = optimizer.get_solution()\n",
    "G.set_values(freqs, anharms, drives)"
   ]
  },
  {
   "cell_type": "code",
   "execution_count": 16,
   "metadata": {},
   "outputs": [
    {
     "name": "stdout",
     "output_type": "stream",
     "text": [
      "A1 at (0, 1, 7)\n",
      "A1 at (0, 1, 7)\n",
      "A1 at (0, 1, 7)\n",
      "A1 at (0, 1, 7)\n",
      "A1 at (0, 1, 7)\n",
      "A1 at (0, 1, 7)\n",
      "A1 at (0, 1, 7)\n",
      "A1 at (0, 1, 7)\n",
      "False\n"
     ]
    }
   ],
   "source": [
    "print(G.check_solution(d_dict, cstr=cstr_key))"
   ]
  },
  {
   "cell_type": "code",
   "execution_count": 17,
   "metadata": {},
   "outputs": [
    {
     "data": {
      "image/png": "[encoded data removed]",
      "text/plain": [
       "<Figure size 432x288 with 1 Axes>"
      ]
     },
     "metadata": {
      "needs_background": "light"
     },
     "output_type": "display_data"
    }
   ],
   "source": [
    "fig, ax = plt.subplots()\n",
    "ax.plot(G.freqs, 'o--')\n",
    "ax.set_xlabel(\"Transmon\", fontsize=16)\n",
    "ax.set_ylabel(\"Frequency (GHz)\", fontsize=16)\n",
    "ax.add_patch(Rectangle((-0.5, 6.00), 8.0, 0.9,\n",
    "        facecolor = 'Red',\n",
    "        alpha= 0.15,\n",
    "        fill=True,\n",
    "        lw=5))\n",
    "\n",
    "ax.add_patch(Rectangle((-0.5, 4.4), 8.0, 0.1,\n",
    "        facecolor = 'Red',\n",
    "        alpha= 0.15,\n",
    "        fill=True,\n",
    "        lw=5))\n",
    "\n",
    "ax.set_ylim(4.4, 6.1)\n",
    "ax.set_xlim(-0.5, 7.5)\n",
    "\n",
    "ax.plot([7, 7], [4.6, 4.6+0.35], color='k', marker='_', markersize=10)\n",
    "ax.text(7.2, 4.775, r\"$\\alpha$\", fontsize=16)\n",
    "\n",
    "fig.savefig(\"ring_optimized_freq.pdf\")"
   ]
  },
  {
   "cell_type": "code",
   "execution_count": 74,
   "metadata": {},
   "outputs": [
    {
     "name": "stdout",
     "output_type": "stream",
     "text": [
      "{'freq': 4.963333333247789, 'a': -0.35}\n",
      "{'freq': 4.836666666598231, 'a': -0.35}\n",
      "{'freq': 4.709999999948673, 'a': -0.35}\n",
      "{'freq': 4.646666666649557, 'a': -0.35}\n",
      "{'freq': 4.52, 'a': -0.35}\n",
      "{'freq': 4.6466666666495575, 'a': -0.35}\n",
      "{'freq': 4.7733333332991155, 'a': -0.35}\n",
      "{'freq': 4.899999999948673, 'a': -0.35}\n"
     ]
    }
   ],
   "source": [
    "for n in G:\n",
    "    print(G.nodes[n])"
   ]
  },
  {
   "cell_type": "code",
   "execution_count": 75,
   "metadata": {},
   "outputs": [
    {
     "data": {
      "text/plain": [
       "{'A1': 0.017,\n",
       " 'A2i': 0.03,\n",
       " 'A2j': 0.03,\n",
       " 'E1': 0.017,\n",
       " 'E2': 0.03,\n",
       " 'E4': 0.002,\n",
       " 'F1': 0.017,\n",
       " 'F2': 0.025,\n",
       " 'M1': 0.017}"
      ]
     },
     "execution_count": 75,
     "metadata": {},
     "output_type": "execute_result"
    }
   ],
   "source": [
    "d_dict"
   ]
  },
  {
   "cell_type": "code",
   "execution_count": 76,
   "metadata": {},
   "outputs": [],
   "source": [
    "# plotting\n",
    "from matplotlib.patches import Rectangle\n",
    "# pot distribution:\n",
    "import scipy.stats as stats"
   ]
  },
  {
   "cell_type": "code",
   "execution_count": 77,
   "metadata": {},
   "outputs": [
    {
     "data": {
      "text/plain": [
       "OutEdgeView([(0, 1), (0, 7), (1, 2), (2, 3), (3, 4), (5, 4), (6, 5), (7, 6)])"
      ]
     },
     "execution_count": 77,
     "metadata": {},
     "output_type": "execute_result"
    }
   ],
   "source": [
    "G.edges"
   ]
  },
  {
   "cell_type": "code",
   "execution_count": 23,
   "metadata": {},
   "outputs": [
    {
     "data": {
      "image/png": "[encoded data removed]",
      "text/plain": [
       "<Figure size 864x432 with 1 Axes>"
      ]
     },
     "metadata": {
      "needs_background": "light"
     },
     "output_type": "display_data"
    }
   ],
   "source": [
    "# sigma of the distribution of frequency\n",
    "sigma = 0.02\n",
    "\n",
    "fig, ax = plt.subplots(figsize=(12, 6))\n",
    "\n",
    "# loop through the nodes\n",
    "for n in G:\n",
    "    \n",
    "    #plot a dashed line at the position of the qubit frequencies\n",
    "    ax.plot([G.nodes[n]['freq']]*2, [n+0.55,n+0.9+0.55], color='k', linestyle='-')\n",
    "    ax.plot([G.nodes[n]['freq'] + G.nodes[n]['a']]*2, [n+0.55,n+0.9+0.55], color='k', linestyle='--')\n",
    "    ax.plot([G.nodes[n]['freq'] + G.nodes[n]['a']/2]*2, [n+0.55,n+0.55 +.9], color='k', linestyle=':')\n",
    "    \n",
    "    ### Now the forbidden regions\n",
    "    # A1 & A2\n",
    "    neighbors = [G.nodes[(n+1) % 8], G.nodes[(n-1) % 8]]\n",
    "    for neighbor in neighbors:\n",
    "        ax.add_patch(Rectangle((neighbor['freq']-d_dict['A1'], n+0.55), 2*d_dict['A1'], 0.9,\n",
    "                 facecolor = 'Gray',\n",
    "                alpha= 0.2,\n",
    "                 fill=True,\n",
    "                 lw=5))\n",
    "        ax.add_patch(Rectangle((neighbor['freq'] + neighbor['a']-d_dict['A2i'], n+0.55), 2*d_dict['A2i'], 0.9,\n",
    "                                facecolor = 'Gray', alpha= 0.2, fill=True, lw=5))\n",
    "    \n",
    "# Entanglements E1\n",
    "for e in G.edges:\n",
    "    i, j = e\n",
    "    fj = G.nodes[j]['freq']\n",
    "    fi = G.nodes[i]['freq']\n",
    "    ai = G.nodes[i]['a']\n",
    "# #     ax.add_patch(Rectangle((f-d_dict['E1'], i), 2*d_dict['E1'], 0.9,\n",
    "# #                  facecolor = 'Blue',\n",
    "# #                 alpha= 0.2,\n",
    "# #                  fill=True,\n",
    "# #                  lw=5))\n",
    "\n",
    "#     ax.add_patch(Rectangle((fj-d_dict['E4']+ai/2, i+0.55), 2*d_dict['E4'], 0.9,\n",
    "#              facecolor = 'Blue',\n",
    "#             alpha= 0.2,\n",
    "#              fill=True,\n",
    "#              lw=5))\n",
    "    \n",
    "    \n",
    "    #### C constraint\n",
    "    ## fcontrol >= f target\n",
    "    ax.add_patch(Rectangle((fj, i+0.55), -2.0, 0.9,\n",
    "            facecolor = 'Red',\n",
    "            alpha= 0.15,\n",
    "            fill=True,\n",
    "            lw=5))\n",
    "    ax.add_patch(Rectangle((fi, j+0.55), 2.0, 0.9,\n",
    "            facecolor = 'Red',\n",
    "            alpha= 0.15,\n",
    "            fill=True,\n",
    "            lw=5)) \n",
    "    ## fcontrol+acontrol >= f target\n",
    "    ax.add_patch(Rectangle((fj-ai, i+0.55), 2.0, 0.9,\n",
    "            facecolor = 'Red',\n",
    "            alpha= 0.15,\n",
    "            fill=True,\n",
    "            lw=5))\n",
    "    ax.add_patch(Rectangle((fi+ai, j+0.55), -2.0, 0.9,\n",
    "            facecolor = 'Red',\n",
    "            alpha= 0.15,\n",
    "            fill=True,\n",
    "            lw=5)) \n",
    "    \n",
    "    ## 2 photon transition: fj-fi-ai/2 >= delta\n",
    "    ax.add_patch(Rectangle((fi+ai/2-d_dict['E4'], j+0.55), 2*d_dict['E4'], 0.9,\n",
    "        facecolor = 'Blue',\n",
    "        alpha= 0.15,\n",
    "        fill=True,\n",
    "        lw=5)) \n",
    "\n",
    "    ax.add_patch(Rectangle((fj-ai/2-d_dict['E4'], i+0.55), 2*d_dict['E4'], 0.9,\n",
    "        facecolor = 'Blue',\n",
    "        alpha= 0.15,\n",
    "        fill=True,\n",
    "        lw=5)) \n",
    "\n",
    "    \n",
    "### Now the tricky contraint with 3 sites first the F constraints\n",
    "\n",
    "\n",
    "for i, j, k in G.cr_neighbhors:\n",
    "    ## F1: fj != fk\n",
    "    fj = G.nodes[j]['freq']\n",
    "    fi = G.nodes[i]['freq']\n",
    "    fk = G.nodes[k]['freq']\n",
    "    ak = G.nodes[k]['a']\n",
    "    ak = G.nodes[i]['a']\n",
    "    ax.add_patch(Rectangle((fk-d_dict['F1'], j+0.55), 2*d_dict['F1'], 0.9,\n",
    "        facecolor = 'Green',\n",
    "        alpha= 0.15,\n",
    "        fill=True,\n",
    "        lw=5)) \n",
    "    ax.add_patch(Rectangle((fj-d_dict['F1'], k+0.55), 2*d_dict['F1'], 0.9,\n",
    "        facecolor = 'Green',\n",
    "        alpha= 0.15,\n",
    "        fill=True,\n",
    "        lw=5)) \n",
    "    \n",
    "    ## F2\n",
    "    ax.add_patch(Rectangle((fk+ak-d_dict['F2'], j+0.55), 2*d_dict['F2'], 0.9,\n",
    "        facecolor = 'Green',\n",
    "        alpha= 0.15,\n",
    "        fill=True,\n",
    "        lw=5)) \n",
    "    ax.add_patch(Rectangle((fj-ak-d_dict['F2'], k+0.55), 2*d_dict['F2'], 0.9,\n",
    "        facecolor = 'Green',\n",
    "        alpha= 0.15,\n",
    "        fill=True,\n",
    "        lw=5)) \n",
    "\n",
    "    ## M1:\n",
    "    ax.add_patch(Rectangle((fk-2*fi-ai-d_dict['M1'], j+0.55), 2*d_dict['M1'], 0.9,\n",
    "        facecolor = 'Yellow',\n",
    "        alpha= 0.15,\n",
    "        fill=True,\n",
    "        lw=5)) \n",
    "    ax.add_patch(Rectangle((fj-2*fi-ai-d_dict['M1'], k+0.55), 2*d_dict['M1'], 0.9,\n",
    "        facecolor = 'Yellow',\n",
    "        alpha= 0.15,\n",
    "        fill=True,\n",
    "        lw=5)) \n",
    "    ax.add_patch(Rectangle(( (fj+fk-ai)/2-d_dict['M1'], i+0.55), 2*d_dict['M1'], 0.9,\n",
    "        facecolor = 'Yellow',\n",
    "        alpha= 0.15,\n",
    "        fill=True,\n",
    "        lw=5))     \n",
    "    \n",
    "for sigma, ls in zip([0.015, 0.05], ['-', '--']):\n",
    "\n",
    "    for n in G.nodes:\n",
    "\n",
    "        mu = G.nodes[n]['freq']\n",
    "        x = np.linspace(mu - 4*sigma, mu + 4*sigma, 100)\n",
    "        y = stats.norm.pdf(x, mu, sigma)\n",
    "        y /= np.max(y)\n",
    "        ax.plot(x, n +0.55+ 0.9*y, color=f'C{n}', linestyle=ls)\n",
    "\n",
    "\n",
    "\n",
    "ax.set_xlabel('Frequencies (GHz)')\n",
    "ax.set_ylabel('Qubit')\n",
    "\n",
    "ax.set_xlim(4, 6.3)\n",
    "\n",
    "fig.tight_layout()\n",
    "plt.savefig('visualization_8q_ring.pdf')\n",
    "\n",
    "# np.sum(result[1])/np.float(result[1].shape[0])\n",
    "#an even nicer visualization would be to map this into a ring. "
   ]
  },
  {
   "cell_type": "markdown",
   "metadata": {},
   "source": [
    "## Yield of the design"
   ]
  },
  {
   "cell_type": "code",
   "execution_count": 24,
   "metadata": {
    "tags": []
   },
   "outputs": [
    {
     "name": "stdout",
     "output_type": "stream",
     "text": [
      "Qubit collisions:\n",
      "yield   = 0.0299\n",
      "average = 4.6723\n"
     ]
    },
    {
     "data": {
      "image/png": "[encoded data removed]",
      "text/plain": [
       "<Figure size 720x360 with 2 Axes>"
      ]
     },
     "metadata": {
      "needs_background": "light"
     },
     "output_type": "display_data"
    }
   ],
   "source": [
    "# parametrization\n",
    "Nsamples = 10000\n",
    "sigma = 0.060\n",
    "\n",
    "# Calculating yield\n",
    "collisions, c, idx_list, constraints = G.get_collision(d_dict, sigma=sigma, qutrit=False, cstr=cstr_key, Nsamples=Nsamples)\n",
    "\n",
    "idx_len = [len(idx) for idx in idx_list]\n",
    "cstr_list = []\n",
    "for ct, ilen in zip(constraints, idx_len):\n",
    "    cstr_list += [ct]*ilen \n",
    "\n",
    "print(\"Qubit collisions:\")\n",
    "print(f\"yield   = {np.sum(collisions==0)/len(collisions)}\")\n",
    "print(f\"average = {np.sum(collisions)/len(collisions)}\")\n",
    "\n",
    "\n",
    "###### plotting\n",
    "fig, axs = plt.subplots(1, 2, figsize=(10, 5))\n",
    "\n",
    "## plot of the yield\n",
    "ax = axs[0]\n",
    "ax.hist(collisions, bins=[0, 1, 2, 3, 4, 5, 6, 7, 8, 9, 10,11,12,13,14,15,16], density=True)\n",
    "\n",
    "#legend\n",
    "ax.set_xlabel(\"Number of collision\", fontsize=16)\n",
    "ax.set_ylabel(\"Frequency\", fontsize=16)\n",
    "ax.set_title(\"Number of collision per sample\", fontsize=16)\n",
    "\n",
    "## histogram of the type of errors\n",
    "ax = axs[1]\n",
    "c = np.array(c)\n",
    "cc = np.sum(~np.array(c), axis=1)\n",
    "v = [sum(idx_len[:k]) for k in range(len(idx_len)+1)]\n",
    "col = np.array([np.mean(cc[v[i]: v[i+1]]) for i in range(len(v)-1)])/Nsamples\n",
    "\n",
    "ax.bar(np.arange(len(col)), col)\n",
    "ax.set_xticks(np.arange(len(col)))\n",
    "ax.set_xticklabels(cstr_key)\n",
    "\n",
    "# legend and labels\n",
    "ax.set_xlabel('Collision type', fontsize=16)\n",
    "ax.set_ylabel('Frequency', fontsize=16)\n",
    "ax.set_title(\"Collision type\", fontsize=16)\n",
    "fig.suptitle(f\"Collision for a {N}q ring with $\\sigma=$ {sigma} GHz\", fontsize=16)\n",
    "\n",
    "fig.tight_layout()\n",
    "\n",
    "fig.savefig(\"fig_collision_type.pdf\")"
   ]
  },
  {
   "cell_type": "markdown",
   "metadata": {},
   "source": [
    "### Collision type distribution"
   ]
  },
  {
   "cell_type": "markdown",
   "metadata": {},
   "source": [
    "### Collision spatial distribution"
   ]
  },
  {
   "cell_type": "code",
   "execution_count": 25,
   "metadata": {},
   "outputs": [],
   "source": [
    "x = [sum(idx_len[:k]) for k in range(len(idx_len)+1)]\n",
    "xm = [(x[i] + x[i+1])/2 for i in range(len(x)-1)]"
   ]
  },
  {
   "cell_type": "code",
   "execution_count": 26,
   "metadata": {},
   "outputs": [
    {
     "data": {
      "text/plain": [
       "Text(0.5, 0, 'Collision type')"
      ]
     },
     "execution_count": 26,
     "metadata": {},
     "output_type": "execute_result"
    },
    {
     "data": {
      "image/png": "[encoded data removed]",
      "text/plain": [
       "<Figure size 1152x432 with 1 Axes>"
      ]
     },
     "metadata": {
      "needs_background": "light"
     },
     "output_type": "display_data"
    }
   ],
   "source": [
    "fig, ax = plt.subplots(figsize=(16, 6))\n",
    "ax.plot(np.sum(~np.array(c), axis=1)/Nsamples, 'o')\n",
    "for xx in x:\n",
    "    ax.axvline(xx, color='k', linewidth=0.5, alpha = 0.5)\n",
    "ax.set_xticks(xm);\n",
    "ax.set_xticklabels(constraints)\n",
    "\n",
    "ax.set_ylabel('Frequency')\n",
    "ax.set_xlabel(\"Collision type\")"
   ]
  },
  {
   "cell_type": "markdown",
   "metadata": {},
   "source": [
    "### Collision vs std of the frequencies"
   ]
  },
  {
   "cell_type": "code",
   "execution_count": 27,
   "metadata": {},
   "outputs": [
    {
     "data": {
      "text/plain": [
       "[8, 8, 8, 8, 8, 8, 8, 8, 8, 8, 8]"
      ]
     },
     "execution_count": 27,
     "metadata": {},
     "output_type": "execute_result"
    }
   ],
   "source": [
    "idx_len"
   ]
  },
  {
   "cell_type": "code",
   "execution_count": 28,
   "metadata": {},
   "outputs": [
    {
     "ename": "TypeError",
     "evalue": "Invalid shape (10000,) for image data",
     "output_type": "error",
     "traceback": [
      "\u001b[0;31m---------------------------------------------------------------------------\u001b[0m",
      "\u001b[0;31mTypeError\u001b[0m                                 Traceback (most recent call last)",
      "\u001b[0;32m<ipython-input-28-0aecdb04232b>\u001b[0m in \u001b[0;36m<module>\u001b[0;34m\u001b[0m\n\u001b[0;32m----> 1\u001b[0;31m \u001b[0mplt\u001b[0m\u001b[0;34m.\u001b[0m\u001b[0mimshow\u001b[0m\u001b[0;34m(\u001b[0m\u001b[0mcollisions\u001b[0m\u001b[0;34m,\u001b[0m \u001b[0maspect\u001b[0m\u001b[0;34m=\u001b[0m\u001b[0;34m'auto'\u001b[0m\u001b[0;34m)\u001b[0m\u001b[0;34m\u001b[0m\u001b[0;34m\u001b[0m\u001b[0m\n\u001b[0m",
      "\u001b[0;32m~/opt/anaconda3/envs/pyopt/lib/python3.9/site-packages/matplotlib/pyplot.py\u001b[0m in \u001b[0;36mimshow\u001b[0;34m(X, cmap, norm, aspect, interpolation, alpha, vmin, vmax, origin, extent, filternorm, filterrad, resample, url, data, **kwargs)\u001b[0m\n\u001b[1;32m   2901\u001b[0m         \u001b[0mfilternorm\u001b[0m\u001b[0;34m=\u001b[0m\u001b[0;32mTrue\u001b[0m\u001b[0;34m,\u001b[0m \u001b[0mfilterrad\u001b[0m\u001b[0;34m=\u001b[0m\u001b[0;36m4.0\u001b[0m\u001b[0;34m,\u001b[0m \u001b[0mresample\u001b[0m\u001b[0;34m=\u001b[0m\u001b[0;32mNone\u001b[0m\u001b[0;34m,\u001b[0m \u001b[0murl\u001b[0m\u001b[0;34m=\u001b[0m\u001b[0;32mNone\u001b[0m\u001b[0;34m,\u001b[0m\u001b[0;34m\u001b[0m\u001b[0;34m\u001b[0m\u001b[0m\n\u001b[1;32m   2902\u001b[0m         data=None, **kwargs):\n\u001b[0;32m-> 2903\u001b[0;31m     __ret = gca().imshow(\n\u001b[0m\u001b[1;32m   2904\u001b[0m         \u001b[0mX\u001b[0m\u001b[0;34m,\u001b[0m \u001b[0mcmap\u001b[0m\u001b[0;34m=\u001b[0m\u001b[0mcmap\u001b[0m\u001b[0;34m,\u001b[0m \u001b[0mnorm\u001b[0m\u001b[0;34m=\u001b[0m\u001b[0mnorm\u001b[0m\u001b[0;34m,\u001b[0m \u001b[0maspect\u001b[0m\u001b[0;34m=\u001b[0m\u001b[0maspect\u001b[0m\u001b[0;34m,\u001b[0m\u001b[0;34m\u001b[0m\u001b[0;34m\u001b[0m\u001b[0m\n\u001b[1;32m   2905\u001b[0m         \u001b[0minterpolation\u001b[0m\u001b[0;34m=\u001b[0m\u001b[0minterpolation\u001b[0m\u001b[0;34m,\u001b[0m \u001b[0malpha\u001b[0m\u001b[0;34m=\u001b[0m\u001b[0malpha\u001b[0m\u001b[0;34m,\u001b[0m \u001b[0mvmin\u001b[0m\u001b[0;34m=\u001b[0m\u001b[0mvmin\u001b[0m\u001b[0;34m,\u001b[0m\u001b[0;34m\u001b[0m\u001b[0;34m\u001b[0m\u001b[0m\n",
      "\u001b[0;32m~/opt/anaconda3/envs/pyopt/lib/python3.9/site-packages/matplotlib/__init__.py\u001b[0m in \u001b[0;36minner\u001b[0;34m(ax, data, *args, **kwargs)\u001b[0m\n\u001b[1;32m   1359\u001b[0m     \u001b[0;32mdef\u001b[0m \u001b[0minner\u001b[0m\u001b[0;34m(\u001b[0m\u001b[0max\u001b[0m\u001b[0;34m,\u001b[0m \u001b[0;34m*\u001b[0m\u001b[0margs\u001b[0m\u001b[0;34m,\u001b[0m \u001b[0mdata\u001b[0m\u001b[0;34m=\u001b[0m\u001b[0;32mNone\u001b[0m\u001b[0;34m,\u001b[0m \u001b[0;34m**\u001b[0m\u001b[0mkwargs\u001b[0m\u001b[0;34m)\u001b[0m\u001b[0;34m:\u001b[0m\u001b[0;34m\u001b[0m\u001b[0;34m\u001b[0m\u001b[0m\n\u001b[1;32m   1360\u001b[0m         \u001b[0;32mif\u001b[0m \u001b[0mdata\u001b[0m \u001b[0;32mis\u001b[0m \u001b[0;32mNone\u001b[0m\u001b[0;34m:\u001b[0m\u001b[0;34m\u001b[0m\u001b[0;34m\u001b[0m\u001b[0m\n\u001b[0;32m-> 1361\u001b[0;31m             \u001b[0;32mreturn\u001b[0m \u001b[0mfunc\u001b[0m\u001b[0;34m(\u001b[0m\u001b[0max\u001b[0m\u001b[0;34m,\u001b[0m \u001b[0;34m*\u001b[0m\u001b[0mmap\u001b[0m\u001b[0;34m(\u001b[0m\u001b[0msanitize_sequence\u001b[0m\u001b[0;34m,\u001b[0m \u001b[0margs\u001b[0m\u001b[0;34m)\u001b[0m\u001b[0;34m,\u001b[0m \u001b[0;34m**\u001b[0m\u001b[0mkwargs\u001b[0m\u001b[0;34m)\u001b[0m\u001b[0;34m\u001b[0m\u001b[0;34m\u001b[0m\u001b[0m\n\u001b[0m\u001b[1;32m   1362\u001b[0m \u001b[0;34m\u001b[0m\u001b[0m\n\u001b[1;32m   1363\u001b[0m         \u001b[0mbound\u001b[0m \u001b[0;34m=\u001b[0m \u001b[0mnew_sig\u001b[0m\u001b[0;34m.\u001b[0m\u001b[0mbind\u001b[0m\u001b[0;34m(\u001b[0m\u001b[0max\u001b[0m\u001b[0;34m,\u001b[0m \u001b[0;34m*\u001b[0m\u001b[0margs\u001b[0m\u001b[0;34m,\u001b[0m \u001b[0;34m**\u001b[0m\u001b[0mkwargs\u001b[0m\u001b[0;34m)\u001b[0m\u001b[0;34m\u001b[0m\u001b[0;34m\u001b[0m\u001b[0m\n",
      "\u001b[0;32m~/opt/anaconda3/envs/pyopt/lib/python3.9/site-packages/matplotlib/axes/_axes.py\u001b[0m in \u001b[0;36mimshow\u001b[0;34m(self, X, cmap, norm, aspect, interpolation, alpha, vmin, vmax, origin, extent, filternorm, filterrad, resample, url, **kwargs)\u001b[0m\n\u001b[1;32m   5607\u001b[0m                               resample=resample, **kwargs)\n\u001b[1;32m   5608\u001b[0m \u001b[0;34m\u001b[0m\u001b[0m\n\u001b[0;32m-> 5609\u001b[0;31m         \u001b[0mim\u001b[0m\u001b[0;34m.\u001b[0m\u001b[0mset_data\u001b[0m\u001b[0;34m(\u001b[0m\u001b[0mX\u001b[0m\u001b[0;34m)\u001b[0m\u001b[0;34m\u001b[0m\u001b[0;34m\u001b[0m\u001b[0m\n\u001b[0m\u001b[1;32m   5610\u001b[0m         \u001b[0mim\u001b[0m\u001b[0;34m.\u001b[0m\u001b[0mset_alpha\u001b[0m\u001b[0;34m(\u001b[0m\u001b[0malpha\u001b[0m\u001b[0;34m)\u001b[0m\u001b[0;34m\u001b[0m\u001b[0;34m\u001b[0m\u001b[0m\n\u001b[1;32m   5611\u001b[0m         \u001b[0;32mif\u001b[0m \u001b[0mim\u001b[0m\u001b[0;34m.\u001b[0m\u001b[0mget_clip_path\u001b[0m\u001b[0;34m(\u001b[0m\u001b[0;34m)\u001b[0m \u001b[0;32mis\u001b[0m \u001b[0;32mNone\u001b[0m\u001b[0;34m:\u001b[0m\u001b[0;34m\u001b[0m\u001b[0;34m\u001b[0m\u001b[0m\n",
      "\u001b[0;32m~/opt/anaconda3/envs/pyopt/lib/python3.9/site-packages/matplotlib/image.py\u001b[0m in \u001b[0;36mset_data\u001b[0;34m(self, A)\u001b[0m\n\u001b[1;32m    707\u001b[0m         if not (self._A.ndim == 2\n\u001b[1;32m    708\u001b[0m                 or self._A.ndim == 3 and self._A.shape[-1] in [3, 4]):\n\u001b[0;32m--> 709\u001b[0;31m             raise TypeError(\"Invalid shape {} for image data\"\n\u001b[0m\u001b[1;32m    710\u001b[0m                             .format(self._A.shape))\n\u001b[1;32m    711\u001b[0m \u001b[0;34m\u001b[0m\u001b[0m\n",
      "\u001b[0;31mTypeError\u001b[0m: Invalid shape (10000,) for image data"
     ]
    },
    {
     "data": {
      "image/png": "[encoded data removed]",
      "text/plain": [
       "<Figure size 432x288 with 1 Axes>"
      ]
     },
     "metadata": {
      "needs_background": "light"
     },
     "output_type": "display_data"
    }
   ],
   "source": [
    "plt.imshow(collisions, aspect='auto')"
   ]
  },
  {
   "cell_type": "code",
   "execution_count": 29,
   "metadata": {},
   "outputs": [
    {
     "data": {
      "text/plain": [
       "['A1', 'A2i', 'A2j', 'E1', 'E2', 'E4', 'C1', 'C1b', 'F1', 'F2', 'M1']"
      ]
     },
     "execution_count": 29,
     "metadata": {},
     "output_type": "execute_result"
    }
   ],
   "source": [
    "cstr_key"
   ]
  },
  {
   "cell_type": "code",
   "execution_count": 30,
   "metadata": {},
   "outputs": [
    {
     "data": {
      "image/png": "[encoded data removed]",
      "text/plain": [
       "<Figure size 720x360 with 1 Axes>"
      ]
     },
     "metadata": {
      "needs_background": "light"
     },
     "output_type": "display_data"
    }
   ],
   "source": [
    "\n",
    "# initialization the plot\n",
    "fig, ax = plt.subplots( figsize=(10, 5))\n",
    "\n",
    "# N_samples\n",
    "Nsamples = 50000\n",
    "\n",
    "# varying the dispersion of the frequency\n",
    "# s_vec = np.linspace(1e-6, 0.1, 21)\n",
    "s_vec = np.logspace(-2.5, -1, 21)\n",
    "\n",
    "# saving the results\n",
    "collisions = np.array([G.get_collision(d_dict, Nsamples=Nsamples, sigma=s, cstr=cstr_key)[0] for s in s_vec])\n",
    "\n",
    "n_collisions = [0]\n",
    "y = [(Nsamples-np.count_nonzero(collisions-n, axis=1))/Nsamples for n in n_collisions]\n",
    "\n",
    "collisions = np.array([G.get_collision(d_dict, Nsamples=Nsamples, sigma=s, cstr=['A1', 'A2i', 'A2j'])[0] for s in s_vec])\n",
    "y0 = [(Nsamples-np.count_nonzero(collisions-n, axis=1))/Nsamples for n in n_collisions]\n",
    "\n",
    "ax.plot(s_vec*1e3, y[0], label=f'1Q and 2Q constraint')\n",
    "ax.plot(s_vec*1e3, y0[0], label=f'1Q constraint')\n",
    "\n",
    "ax.axvline(15, ls='-.', color='Gray', label = r\"J.B. Hertzberg $\\it{et~al.}$\")\n",
    "ax.axvline(50, ls='--', color='Gray', label = r\"JM. Kreikebaum $\\it{et~al.}$\")\n",
    "\n",
    "ax.axhline(1/64, ls=\":\", color='Gray')\n",
    "ax.text(20, 2*1e-2, \"1/64\")\n",
    "ax.axhline(1/10, ls=\":\", color='Gray')\n",
    "ax.text(20, 1/10+0.01, \"1/10\")\n",
    "\n",
    "# Legend and labels\n",
    "ax.set_ylabel(f'Yield', fontsize=16)\n",
    "ax.set_xlabel('Frequency dispersion $\\sigma_f$ (MHz)', fontsize=16)\n",
    "ax.set_yscale('log')\n",
    "ax.set_title('Yield for collision free sample', fontsize=16)\n",
    "ax.legend(ncol=1, loc=0. , fontsize=16)\n",
    "\n",
    "# ax.set_xlim(0, 100)\n",
    "ax.set_xscale(\"log\")\n",
    "\n",
    "ax.grid()\n",
    "fig.savefig(\"fig_yield.pdf\")"
   ]
  },
  {
   "cell_type": "code",
   "execution_count": 80,
   "metadata": {},
   "outputs": [
    {
     "data": {
      "text/plain": [
       "array([1.00000000e-06, 1.26485522e-06, 1.59985872e-06, 2.02358965e-06,\n",
       "       2.55954792e-06, 3.23745754e-06, 4.09491506e-06, 5.17947468e-06,\n",
       "       6.55128557e-06, 8.28642773e-06, 1.04811313e-05, 1.32571137e-05,\n",
       "       1.67683294e-05, 2.12095089e-05, 2.68269580e-05, 3.39322177e-05,\n",
       "       4.29193426e-05, 5.42867544e-05, 6.86648845e-05, 8.68511374e-05,\n",
       "       1.09854114e-04, 1.38949549e-04, 1.75751062e-04, 2.22299648e-04,\n",
       "       2.81176870e-04, 3.55648031e-04, 4.49843267e-04, 5.68986603e-04,\n",
       "       7.19685673e-04, 9.10298178e-04, 1.15139540e-03, 1.45634848e-03,\n",
       "       1.84206997e-03, 2.32995181e-03, 2.94705170e-03, 3.72759372e-03,\n",
       "       4.71486636e-03, 5.96362332e-03, 7.54312006e-03, 9.54095476e-03,\n",
       "       1.20679264e-02, 1.52641797e-02, 1.93069773e-02, 2.44205309e-02,\n",
       "       3.08884360e-02, 3.90693994e-02, 4.94171336e-02, 6.25055193e-02,\n",
       "       7.90604321e-02, 1.00000000e-01])"
      ]
     },
     "execution_count": 80,
     "metadata": {},
     "output_type": "execute_result"
    }
   ],
   "source": [
    "np.logspace(-6, -1)"
   ]
  },
  {
   "cell_type": "code",
   "execution_count": 11,
   "metadata": {},
   "outputs": [],
   "source": [
    "params = {\n",
    "    'axes.labelsize': 10,\n",
    "    'legend.fontsize': 10,\n",
    "    'xtick.labelsize': 8,\n",
    "    'ytick.labelsize': 8,\n",
    "    'text.usetex': True,\n",
    "    'figure.figsize': [7, 3.375],\n",
    "    'xtick.direction': 'in',\n",
    "    'ytick.direction': 'in',\n",
    "    'ytick.right': True,\n",
    "    'xtick.top': True\n",
    "   }\n",
    "plt.rcParams.update(params)"
   ]
  },
  {
   "cell_type": "code",
   "execution_count": 46,
   "metadata": {},
   "outputs": [],
   "source": [
    "data = {\"sigma\": s_vec, \n",
    "        \"collisions\": collisions,\n",
    "        \"key\": cstr_key,\n",
    "        \"yield\": y,\n",
    "        \"samples\":Nsamples}\n",
    "np.save(f'ring_8t_{architecture}_yield.npy',data)"
   ]
  },
  {
   "cell_type": "code",
   "execution_count": 12,
   "metadata": {},
   "outputs": [],
   "source": [
    "data_CR = np.load('ring_8t_CR_yield.npy', allow_pickle=True)[()]\n",
    "data_CZ = np.load('ring_8t_CZ_yield.npy', allow_pickle=True)[()]"
   ]
  },
  {
   "cell_type": "code",
   "execution_count": 17,
   "metadata": {},
   "outputs": [
    {
     "data": {
      "image/png": "[encoded data removed]",
      "text/plain": [
       "<Figure size 243x180 with 1 Axes>"
      ]
     },
     "metadata": {
      "needs_background": "light"
     },
     "output_type": "display_data"
    }
   ],
   "source": [
    "fig, ax = plt.subplots(figsize=(3.375, 2.5))\n",
    "\n",
    "\n",
    "s_vec_cr = data_CR[\"sigma\"]\n",
    "y_cr = data_CR[\"yield\"]\n",
    "\n",
    "s_vec_cz = data_CZ[\"sigma\"]\n",
    "y_cz = data_CZ[\"yield\"]\n",
    "\n",
    "\n",
    "\n",
    "ax.plot(s_vec_cr*1e3, y_cr[0], label=f'MIP - CR')\n",
    "ax.plot(s_vec_cz*1e3, y_cz[0], label=f'MIP - CZ')\n",
    "\n",
    "ax.axvline(15, ls='-.', color='Gray', label = r\"J.B. Hertzberg $\\it{et~al.}$\")\n",
    "ax.axvline(50, ls='--', color='Gray', label = r\"JM. Kreikebaum $\\it{et~al.}$\")\n",
    "\n",
    "# Legend and labels\n",
    "ax.set_ylabel(f'Yield')\n",
    "ax.set_xlabel('Frequency dispersion $\\sigma_f$ (MHz)')\n",
    "ax.set_yscale('log')\n",
    "# ax.set_title('Yield for collision free sample')\n",
    "ax.legend(ncol=1, fontsize=8, loc=0)\n",
    "\n",
    "ax.set_xlim(0, 100)\n",
    "ax.grid()\n",
    "\n",
    "fig.tight_layout()\n",
    "\n",
    "fig.savefig(\"fig_yield_ring.pdf\")"
   ]
  },
  {
   "cell_type": "code",
   "execution_count": 53,
   "metadata": {},
   "outputs": [
    {
     "data": {
      "text/plain": [
       "array({'sigma': array([0.     , 0.00125, 0.0025 , 0.00375, 0.005  , 0.00625, 0.0075 ,\n",
       "       0.00875, 0.01   , 0.01125, 0.0125 , 0.01375, 0.015  , 0.01625,\n",
       "       0.0175 , 0.01875, 0.02   , 0.02125, 0.0225 , 0.02375, 0.025  ,\n",
       "       0.02625, 0.0275 , 0.02875, 0.03   , 0.03125, 0.0325 , 0.03375,\n",
       "       0.035  , 0.03625, 0.0375 , 0.03875, 0.04   , 0.04125, 0.0425 ,\n",
       "       0.04375, 0.045  , 0.04625, 0.0475 , 0.04875, 0.05   , 0.05125,\n",
       "       0.0525 , 0.05375, 0.055  , 0.05625, 0.0575 , 0.05875, 0.06   ,\n",
       "       0.06125, 0.0625 , 0.06375, 0.065  , 0.06625, 0.0675 , 0.06875,\n",
       "       0.07   , 0.07125, 0.0725 , 0.07375, 0.075  , 0.07625, 0.0775 ,\n",
       "       0.07875, 0.08   , 0.08125, 0.0825 , 0.08375, 0.085  , 0.08625,\n",
       "       0.0875 , 0.08875, 0.09   , 0.09125, 0.0925 , 0.09375, 0.095  ,\n",
       "       0.09625, 0.0975 , 0.09875, 0.1    ]), 'collisions': array([[0, 0, 0, ..., 0, 0, 0],\n",
       "       [0, 0, 0, ..., 0, 0, 0],\n",
       "       [0, 0, 0, ..., 0, 0, 0],\n",
       "       ...,\n",
       "       [4, 8, 5, ..., 3, 8, 3],\n",
       "       [5, 4, 4, ..., 2, 9, 7],\n",
       "       [4, 9, 5, ..., 6, 7, 4]]), 'key': ['A1', 'A2i', 'A2j', 'E1', 'E2', 'E4', 'C1', 'C1b', 'F1', 'F2', 'M1'], 'yield': [array([1.     , 1.     , 1.     , 1.     , 1.     , 1.     , 0.99996,\n",
       "       0.99918, 0.99546, 0.9839 , 0.96278, 0.92916, 0.8858 , 0.83984,\n",
       "       0.7789 , 0.7221 , 0.66352, 0.6073 , 0.5506 , 0.5071 , 0.45412,\n",
       "       0.4132 , 0.3727 , 0.34188, 0.30582, 0.27932, 0.25342, 0.23176,\n",
       "       0.2113 , 0.19492, 0.17686, 0.16066, 0.14866, 0.13552, 0.12628,\n",
       "       0.11694, 0.106  , 0.09934, 0.09118, 0.08618, 0.07738, 0.07358,\n",
       "       0.06618, 0.06388, 0.06056, 0.05546, 0.05264, 0.04892, 0.04606,\n",
       "       0.04132, 0.0398 , 0.0374 , 0.03706, 0.03388, 0.02956, 0.02954,\n",
       "       0.02898, 0.02542, 0.02442, 0.02356, 0.02214, 0.0206 , 0.02014,\n",
       "       0.01928, 0.01714, 0.01684, 0.01586, 0.01594, 0.01422, 0.01334,\n",
       "       0.01296, 0.01222, 0.01174, 0.01176, 0.01128, 0.01046, 0.00976,\n",
       "       0.00952, 0.008  , 0.00786, 0.00796])], 'samples': 50000},\n",
       "      dtype=object)"
      ]
     },
     "execution_count": 53,
     "metadata": {},
     "output_type": "execute_result"
    }
   ],
   "source": [
    "data_CR"
   ]
  },
  {
   "cell_type": "code",
   "execution_count": 76,
   "metadata": {},
   "outputs": [
    {
     "data": {
      "text/plain": [
       "\u001b[0;31mSignature:\u001b[0m \u001b[0mord\u001b[0m\u001b[0;34m(\u001b[0m\u001b[0mc\u001b[0m\u001b[0;34m,\u001b[0m \u001b[0;34m/\u001b[0m\u001b[0;34m)\u001b[0m\u001b[0;34m\u001b[0m\u001b[0;34m\u001b[0m\u001b[0m\n",
       "\u001b[0;31mDocstring:\u001b[0m Return the Unicode code point for a one-character string.\n",
       "\u001b[0;31mType:\u001b[0m      builtin_function_or_method\n"
      ]
     },
     "metadata": {},
     "output_type": "display_data"
    }
   ],
   "source": [
    "ord?"
   ]
  },
  {
   "cell_type": "raw",
   "metadata": {},
   "source": []
  }
 ],
 "metadata": {
  "kernelspec": {
   "display_name": "pyopt",
   "language": "python",
   "name": "pyopt"
  },
  "language_info": {
   "codemirror_mode": {
    "name": "ipython",
    "version": 3
   },
   "file_extension": ".py",
   "mimetype": "text/x-python",
   "name": "python",
   "nbconvert_exporter": "python",
   "pygments_lexer": "ipython3",
   "version": "3.9.4"
  }
 },
 "nbformat": 4,
 "nbformat_minor": 5
}
