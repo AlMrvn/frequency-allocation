{
 "cells": [
  {
   "cell_type": "markdown",
   "id": "eb9edb6f-de30-48a4-ab03-674c903317bd",
   "metadata": {},
   "source": [
    "# Optimization of a circulator layout\n",
    "\n",
    "Author: Alexis Morvan\n",
    "Date: 2021-06-02"
   ]
  },
  {
   "cell_type": "code",
   "execution_count": 1,
   "id": "700b2862-4504-490d-9775-2cf47db016fb",
   "metadata": {},
   "outputs": [],
   "source": [
    "import numpy as np\n",
    "import matplotlib.pyplot as plt\n",
    "import networkx as nx\n",
    "\n",
    "import sys\n",
    "sys.path.append(\"../\")\n",
    "\n",
    "from freq_allocation.check_solution import *\n",
    "from freq_allocation.yield_mc_simulation import *\n",
    "from freq_allocation.frequency_graph import FrequencyGraph\n",
    "\n",
    "# import pandas as pd"
   ]
  },
  {
   "cell_type": "markdown",
   "id": "2611da50-cfc5-45cf-a581-5f1819454763",
   "metadata": {},
   "source": [
    "## Definition of the layout\n",
    "We are defining a circular layout of N-transmons. Here we consider a simple circular layout where the edge goes likes:\n",
    "\n",
    "0 --> 1 --> 2 --> ... --> N//2 <-- ... <-- N-1 <-- N <-- 0"
   ]
  },
  {
   "cell_type": "markdown",
   "id": "cb17e0ff-dfd0-45e2-9511-c96a44a7484f",
   "metadata": {},
   "source": [
    "### Ring parameters"
   ]
  },
  {
   "cell_type": "code",
   "execution_count": 2,
   "id": "46f29d01-3c19-467d-9ce7-93642734f2d7",
   "metadata": {},
   "outputs": [],
   "source": [
    "N = 6  # number of transmons\n",
    "edges = [(0, 1), (1, 2), (2, 3), (4, 3), (5, 4), (0, 5)]  # edges\n",
    "architecture = \"CR\"  # choosing the architecture: CZ or CR\n",
    "qutrit = False # qutrit or qubits\n",
    "\n",
    "# for later:\n",
    "# thresholds\n",
    "# weights\n",
    "# all_differents\n",
    "# solver name"
   ]
  },
  {
   "cell_type": "markdown",
   "id": "50781998-314a-46c0-86b0-946e3a7e1e75",
   "metadata": {},
   "source": [
    "### Constructing a FrequencyGraph object"
   ]
  },
  {
   "cell_type": "code",
   "execution_count": 5,
   "id": "a6e11b18-76a8-4c0f-90fd-648941e47d24",
   "metadata": {},
   "outputs": [
    {
     "data": {
      "image/png": "[encoded data removed]",
      "text/plain": [
       "<Figure size 432x288 with 1 Axes>"
      ]
     },
     "metadata": {},
     "output_type": "display_data"
    }
   ],
   "source": [
    "G = FrequencyGraph(edges=edges)\n",
    "G.plot()"
   ]
  },
  {
   "cell_type": "markdown",
   "id": "c3f141c0-8723-4798-8dea-ab7ea404c465",
   "metadata": {},
   "source": [
    "## Optimization of the frequency"
   ]
  },
  {
   "cell_type": "markdown",
   "id": "2d1d3219-e93d-4d82-af3e-f8604e48b4ee",
   "metadata": {},
   "source": [
    "### optimization parameters"
   ]
  },
  {
   "cell_type": "code",
   "execution_count": 9,
   "id": "c9c4c35a-2de6-46fb-8065-1e2ac0c1a2c4",
   "metadata": {},
   "outputs": [
    {
     "name": "stdout",
     "output_type": "stream",
     "text": [
      "here\n"
     ]
    }
   ],
   "source": [
    "if not np.array([0]):\n",
    "    print(\"here\")"
   ]
  },
  {
   "cell_type": "code",
   "execution_count": null,
   "id": "4d8f01bf-b9fc-4185-a255-88c342d79fe7",
   "metadata": {},
   "outputs": [],
   "source": []
  },
  {
   "cell_type": "markdown",
   "id": "f68d66b8-08cd-4ab5-86c1-a894debc41e6",
   "metadata": {},
   "source": [
    "### Optimization"
   ]
  },
  {
   "cell_type": "code",
   "execution_count": null,
   "id": "32cbf900-bd09-4fef-9f16-337402e12f2c",
   "metadata": {},
   "outputs": [],
   "source": [
    "G.optimize()"
   ]
  },
  {
   "cell_type": "code",
   "execution_count": null,
   "id": "7109b0fb-de59-4a2c-b10c-a319724930a3",
   "metadata": {},
   "outputs": [],
   "source": []
  },
  {
   "cell_type": "markdown",
   "id": "bbc12f9a-e346-4d10-b322-3fec92c3d59c",
   "metadata": {},
   "source": [
    "## Yield of the design"
   ]
  },
  {
   "cell_type": "code",
   "execution_count": null,
   "id": "38fb95e0-0179-4f4f-9657-18be06855a68",
   "metadata": {},
   "outputs": [],
   "source": []
  },
  {
   "cell_type": "markdown",
   "id": "ce9da0da-884e-46bb-bb1f-6105c36a5664",
   "metadata": {},
   "source": [
    "### Collision type distribution"
   ]
  },
  {
   "cell_type": "code",
   "execution_count": null,
   "id": "2bcb6e70-a93f-4ab3-b8c7-577000f9f328",
   "metadata": {},
   "outputs": [],
   "source": []
  },
  {
   "cell_type": "markdown",
   "id": "53701b70-2758-42a1-872a-eace92c482c5",
   "metadata": {},
   "source": [
    "### Collision spatial distribution"
   ]
  },
  {
   "cell_type": "code",
   "execution_count": null,
   "id": "2d10dee2-70d9-4758-a328-9e88ead9254f",
   "metadata": {},
   "outputs": [],
   "source": []
  },
  {
   "cell_type": "markdown",
   "id": "66c54d0f-e817-4ec4-894d-7fe511d0de7f",
   "metadata": {},
   "source": [
    "### Collision vs std of the frequencies"
   ]
  },
  {
   "cell_type": "code",
   "execution_count": null,
   "id": "47496d45-a98e-4bd2-a15e-efa1d70c71eb",
   "metadata": {},
   "outputs": [],
   "source": []
  }
 ],
 "metadata": {
  "kernelspec": {
   "display_name": "pyopt",
   "language": "python",
   "name": "pyopt"
  },
  "language_info": {
   "codemirror_mode": {
    "name": "ipython",
    "version": 3
   },
   "file_extension": ".py",
   "mimetype": "text/x-python",
   "name": "python",
   "nbconvert_exporter": "python",
   "pygments_lexer": "ipython3",
   "version": "3.9.4"
  }
 },
 "nbformat": 4,
 "nbformat_minor": 5
}
